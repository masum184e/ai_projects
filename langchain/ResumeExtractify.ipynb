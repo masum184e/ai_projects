{
 "cells": [
  {
   "cell_type": "markdown",
   "id": "d612a1c4-b420-449a-8bf5-ade12c649614",
   "metadata": {},
   "source": [
    "# Contents\n",
    "- Model\n",
    "- Read PDF\n",
    "- Extract Skills"
   ]
  },
  {
   "cell_type": "markdown",
   "id": "23ffea92-eefa-4169-91d3-7d8f1f459897",
   "metadata": {},
   "source": [
    "# Model"
   ]
  },
  {
   "cell_type": "code",
   "execution_count": 9,
   "id": "522b9c98-69f5-46c4-a341-589226f9fe7d",
   "metadata": {},
   "outputs": [],
   "source": [
    "from langchain_huggingface import HuggingFaceEndpoint\n",
    "repo_id = \"mistralai/Mistral-7B-Instruct-v0.3\"\n",
    "huggingfacehub_api_token = \"abcdefghijklmnopqrstuvwxyz\"\n",
    "llm = HuggingFaceEndpoint(repo_id = repo_id, huggingfacehub_api_token = huggingfacehub_api_token)"
   ]
  },
  {
   "cell_type": "markdown",
   "id": "268037f6-37ca-4389-801a-c69dfcd9948e",
   "metadata": {},
   "source": [
    "# Read PDF"
   ]
  },
  {
   "cell_type": "code",
   "execution_count": 19,
   "id": "e3109bbf-0ba2-45c5-9431-e65f4aff9b96",
   "metadata": {},
   "outputs": [],
   "source": [
    "from pdfminer.high_level import extract_text\n",
    "\n",
    "def read_pdf(file_path):\n",
    "    return extract_text(file_path)"
   ]
  },
  {
   "cell_type": "markdown",
   "id": "b1bc292c-fef8-4b24-bcc8-f70019a4a7e7",
   "metadata": {},
   "source": [
    "# Extrract Skills"
   ]
  },
  {
   "cell_type": "code",
   "execution_count": 27,
   "id": "64434080-00da-4337-a188-80e42454bfbb",
   "metadata": {},
   "outputs": [],
   "source": [
    "from langchain.schema import SystemMessage, HumanMessage\n",
    "import json\n",
    "\n",
    "def extract_skills(resume_text):\n",
    "    system_message_for_extract_skills = \"Extract technical skills and soft skills from the given resume text.\"\n",
    "    human_message_for_extract_skills = f\"Resume:\\n{resume_text}\\n\\nExtract the skills in JSON format with keys: 'technical_skills' and 'soft_skills'.\"\n",
    "    \n",
    "    prompt = [\n",
    "        SystemMessage(content=system_message_for_extract_skills),\n",
    "        HumanMessage(content=human_message_for_extract_skills)\n",
    "    ]\n",
    "    \n",
    "    response = llm.invoke(prompt)\n",
    "    return json.loads(response)"
   ]
  }
 ],
 "metadata": {
  "kernelspec": {
   "display_name": "venv",
   "language": "python",
   "name": "venv"
  },
  "language_info": {
   "codemirror_mode": {
    "name": "ipython",
    "version": 3
   },
   "file_extension": ".py",
   "mimetype": "text/x-python",
   "name": "python",
   "nbconvert_exporter": "python",
   "pygments_lexer": "ipython3",
   "version": "3.11.4"
  }
 },
 "nbformat": 4,
 "nbformat_minor": 5
}
