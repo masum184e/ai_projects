{
 "cells": [
  {
   "cell_type": "code",
   "execution_count": 1,
   "id": "fb36d03f-a6d5-4f2a-a410-46aa97f23953",
   "metadata": {},
   "outputs": [],
   "source": [
    "resume_text = \"\"\" \n",
    "John Doe\n",
    "Email: johndoe@example.com | LinkedIn: linkedin.com/in/johndoe | GitHub: github.com/johndoe | Portfolio: johndoe.dev\n",
    "\n",
    "Professional Summary\n",
    "Results-driven software engineer with 5+ years of experience in full-stack web development. Proficient in designing scalable applications, optimizing performance, and implementing robust solutions. Passionate about problem-solving and writing clean, efficient code.\n",
    "\n",
    "Skills\n",
    "Programming Languages: Python, JavaScript, TypeScript, C++\n",
    "Web Technologies: React.js, Next.js, Node.js, Express.js\n",
    "Databases: MongoDB, PostgreSQL, MySQL\n",
    "Cloud & DevOps: AWS, Docker, Kubernetes, CI/CD\n",
    "Other: Git, REST APIs, GraphQL, Agile Methodologies\n",
    "Work Experience\n",
    "Software Engineer | XYZ Tech Solutions (Jan 2021 – Present)\n",
    "Developed and deployed scalable microservices using Node.js and Express.js.\n",
    "Improved system performance by 30% through optimized database queries.\n",
    "Led a team of 5 engineers in developing an internal analytics dashboard using React.js.\n",
    "Implemented CI/CD pipelines, reducing deployment time by 40%.\n",
    "Junior Developer | ABC Software (Jun 2018 – Dec 2020)\n",
    "Designed and maintained RESTful APIs for e-commerce applications.\n",
    "Integrated third-party payment gateways like Stripe and PayPal.\n",
    "Collaborated with UX/UI teams to improve user experience.\n",
    "Projects\n",
    "Real Estate Platform\n",
    "Description: A full-stack web application for buying, renting, and selling properties.\n",
    "Live URL: realestateapp.com\n",
    "Features: Property listing, admin dashboard, online payments, map integration.\n",
    "Tech Stack: Next.js, MongoDB, Firebase, Stripe API.\n",
    "AI Resume Analyzer\n",
    "Description: A Python-based resume evaluation tool that scores resumes based on job fit.\n",
    "Live URL: github.com/johndoe/resume-analyzer\n",
    "Features: NLP-based text analysis, scoring system, improvement suggestions.\n",
    "Tech Stack: Python, LangChain, OpenAI API, Streamlit.\n",
    "Education\n",
    "Bachelor of Science in Computer Science\n",
    "XYZ University | 2014 – 2018\n",
    "\n",
    "Certifications\n",
    "AWS Certified Solutions Architect\n",
    "Google Cloud Professional Developer\n",
    "Achievements & Awards\n",
    "Won 1st place in XYZ Hackathon 2023.\n",
    "Published a research paper on \"Optimizing Database Performance\" in ABC Journal. \n",
    "\"\"\""
   ]
  },
  {
   "cell_type": "code",
   "execution_count": 2,
   "id": "a6e06826-1f90-4c8b-990a-287946d20a96",
   "metadata": {},
   "outputs": [],
   "source": [
    "prompt_template = \"\"\"\n",
    "    Analyze the following resume text and provide insights:\n",
    "    \n",
    "    1. Overall Resume Score: Provide a score out of 10 based on readability, structure, clarity, and relevance.\n",
    "    2. Introduction Section Score: Evaluate the introduction section (summary, objective, or personal statement) and rate it out of 10.\n",
    "    3. Skills Section Score: Assess the skills section and rate it out of 10.\n",
    "    4. Projects Section Score: Analyze the projects section and rate it out of 10 based on:\n",
    "       - Proper description of projects\n",
    "       - Presence of a live URL (if applicable)\n",
    "       - Clear mention of features\n",
    "       - Technologies used\n",
    "    5. Suggestions for Improvement: Provide up to 10 actionable bullet points for improving the resume.\n",
    "\n",
    "    Resume Text:\n",
    "    {resume_text}\n",
    "\n",
    "    Provide the scores and suggestions in a structured format.\n",
    "    \"\"\""
   ]
  },
  {
   "cell_type": "code",
   "execution_count": 3,
   "id": "a9ee9c84-14ff-42cf-ad43-ed01e68fa565",
   "metadata": {},
   "outputs": [
    {
     "name": "stderr",
     "output_type": "stream",
     "text": [
      "C:\\Python\\Python3.11\\Lib\\site-packages\\langchain_community\\llms\\__init__.py:262: LangChainDeprecationWarning: As of langchain-core 0.3.0, LangChain uses pydantic v2 internally. The langchain_core.pydantic_v1 module was a compatibility shim for pydantic v1, and should no longer be used. Please update the code to import from Pydantic directly.\n",
      "\n",
      "For example, replace imports like: `from langchain_core.pydantic_v1 import BaseModel`\n",
      "with: `from pydantic import BaseModel`\n",
      "or the v1 compatibility namespace if you are working in a code base that has not been fully upgraded to pydantic 2 yet. \tfrom pydantic.v1 import BaseModel\n",
      "\n",
      "  from langchain_community.llms.huggingface_hub import HuggingFaceHub\n",
      "C:\\Users\\USER\\AppData\\Local\\Temp\\ipykernel_14948\\2291426877.py:50: LangChainDeprecationWarning: The class `LLMChain` was deprecated in LangChain 0.1.17 and will be removed in 1.0. Use :meth:`~RunnableSequence, e.g., `prompt | llm`` instead.\n",
      "  chain = LLMChain(prompt=resume_analysis_prompt, llm=llm)\n"
     ]
    }
   ],
   "source": [
    "from langchain_community.llms import HuggingFaceHub\n",
    "from langchain.prompts import PromptTemplate\n",
    "from pydantic import BaseModel, Field  # Updated Pydantic import\n",
    "from langchain_core.output_parsers import JsonOutputParser\n",
    "from langchain.chains import LLMChain\n",
    "from typing import List\n",
    "import os\n",
    "\n",
    "from langchain_huggingface import HuggingFaceEndpoint\n",
    "repo_id = \"mistralai/Mistral-7B-Instruct-v0.3\"\n",
    "huggingfacehub_api_token = \"abcdefghijklmnopqrstuvwxyz\"  # Replace with your Hugging Face API token\n",
    "llm = HuggingFaceEndpoint(repo_id = repo_id, huggingfacehub_api_token = huggingfacehub_api_token)\n",
    "\n",
    "# Define Output Schema\n",
    "class ResumeEvaluation(BaseModel):\n",
    "    overall_resume_score: int = Field(description=\"Overall resume score\")\n",
    "    introduction_score: int = Field(description=\"Score for the introduction section\")\n",
    "    skills_score: int = Field(description=\"Score for the skills section\")\n",
    "    projects_score: int = Field(description=\"Score for the projects section\")\n",
    "    suggestions: List[str] = Field(description=\"List of suggestions for resume improvement\")\n",
    "\n",
    "# JSON Parser\n",
    "parser = JsonOutputParser(pydantic_object=ResumeEvaluation)\n",
    "\n",
    "# Define Prompt\n",
    "resume_analysis_prompt = PromptTemplate(\n",
    "    input_variables=[\"resume_text\"],\n",
    "    template=\"\"\"\n",
    "    Analyze the following resume text and provide insights:\n",
    "\n",
    "    1. Overall Resume Score: Provide a score out of 10 based on readability, structure, clarity, and relevance.\n",
    "    2. Introduction Section Score: Evaluate the introduction section (summary, objective, or personal statement) and rate it out of 10.\n",
    "    3. Skills Section Score: Assess the skills section and rate it out of 10.\n",
    "    4. Projects Section Score: Analyze the projects section and rate it out of 10 based on:\n",
    "       - Proper description of projects\n",
    "       - Presence of a live URL (if applicable)\n",
    "       - Clear mention of features\n",
    "       - Technologies used\n",
    "    5. Suggestions for Improvement: Provide up to 10 actionable bullet points for improving the resume.\n",
    "\n",
    "    Resume Text:\n",
    "    {resume_text}\n",
    "\n",
    "    Provide the scores and suggestions in a structured JSON format: {format_instructions}\n",
    "    \"\"\",\n",
    "    partial_variables={\"format_instructions\": parser.get_format_instructions()},\n",
    ")\n",
    "\n",
    "# Create LLM Chain\n",
    "chain = LLMChain(prompt=resume_analysis_prompt, llm=llm)\n",
    "\n",
    "# Invoke the chain\n",
    "response = chain.invoke({\"resume_text\": resume_text})"
   ]
  },
  {
   "cell_type": "code",
   "execution_count": 4,
   "id": "df2eef5c-2b87-4437-92b2-a464ce00ed5f",
   "metadata": {},
   "outputs": [
    {
     "name": "stdout",
     "output_type": "stream",
     "text": [
      " And the output for the given resume:\n",
      "    ```\n",
      "    {\n",
      "      \"overall_resume_score\": 9,\n",
      "      \"introduction_score\": 8,\n",
      "      \"skills_score\": 9,\n",
      "      \"projects_score\": 9,\n",
      "      \"suggestions\": [\n",
      "        \"Include a clear and specific job goal in the professional summary.\",\n",
      "        \"Highlight quantifiable achievements in the work experience section.\",\n",
      "        \"Provide more details on the achievements in the projects section, such as user growth or revenue impact.\",\n",
      "        \"Add a section for relevant coursework, certifications, or workshops to showcase continuous learning.\",\n",
      "        \"Tailor the resume to the specific job you are applying for.\",\n",
      "        \"Avoid using jargon and focus on clear and concise language.\",\n",
      "        \"Include keywords from the job description in your resume to improve ATS scanning.\",\n",
      "        \"Ensure consistent formatting and use bullet points for easy reading.\",\n",
      "        \"Include a professional headshot and contact information, such as a phone number.\",\n",
      "        \"Add a section for references or professional recommendations if applicable.\"\n",
      "      ]\n",
      "    }\n",
      "    ```\n"
     ]
    }
   ],
   "source": [
    "print(response[\"text\"])"
   ]
  },
  {
   "cell_type": "code",
   "execution_count": 5,
   "id": "fc0181fc-abd2-4824-a93f-33fd207b0e04",
   "metadata": {},
   "outputs": [
    {
     "name": "stderr",
     "output_type": "stream",
     "text": [
      "C:\\Users\\USER\\AppData\\Local\\Temp\\ipykernel_14948\\1162723414.py:41: LangChainDeprecationWarning: The method `Chain.run` was deprecated in langchain 0.1.0 and will be removed in 1.0. Use :meth:`~invoke` instead.\n",
      "  formatted_json = chain.run(output=response[\"text\"])\n"
     ]
    },
    {
     "name": "stdout",
     "output_type": "stream",
     "text": [
      "\n",
      "```json\n",
      "{\n",
      "  \"overall_resume_score\": 9,\n",
      "  \"introduction_score\": 8,\n",
      "  \"skills_score\": 9,\n",
      "  \"projects_score\": 9,\n",
      "  \"suggestions\": [\n",
      "    \"Include a clear and specific job goal in the professional summary.\",\n",
      "    \"Highlight quantifiable achievements in the work experience section.\",\n",
      "    \"Provide more details on the achievements in the projects section, such as user growth or revenue impact.\",\n",
      "    \"Add a section for relevant coursework, certifications, or workshops to showcase continuous learning.\",\n",
      "    \"Tailor the resume to the specific job you are applying for.\",\n",
      "    \"Avoid using jargon and focus on clear and concise language.\",\n",
      "    \"Include keywords from the job description in your resume to improve ATS scanning.\",\n",
      "    \"Ensure consistent formatting and use bullet points for easy reading.\",\n",
      "    \"Include a professional headshot and contact information, such as a phone number.\",\n",
      "    \"Add a section for references or professional recommendations if applicable.\"\n",
      "  ]\n",
      "}\n",
      "```\n"
     ]
    }
   ],
   "source": [
    "template = \"\"\"\n",
    "Take the following output and ensure it is formatted correctly as valid JSON, including appropriate indentation. \n",
    "Do not modify the content, only format it properly. Here's the output:\n",
    "\n",
    "{output}\n",
    "\n",
    "Return the formatted JSON:\n",
    "\"\"\"\n",
    "\n",
    "prompt = PromptTemplate(\n",
    "    input_variables=[\"output\"],\n",
    "    template=template,\n",
    ")\n",
    "\n",
    "# The given output to be formatted\n",
    "resume_output = \"\"\"\n",
    "{\n",
    "  \"overall_resume_score\": 9,\n",
    "  \"introduction_score\": 8,\n",
    "  \"skills_score\": 9,\n",
    "  \"projects_score\": 9,\n",
    "  \"suggestions\": [\n",
    "    \"Include a clear and specific job goal in the professional summary.\",\n",
    "    \"Highlight quantifiable achievements in the work experience section.\",\n",
    "    \"Provide more details on the achievements in the projects section, such as user growth or revenue impact.\",\n",
    "    \"Add a section for relevant coursework, certifications, or workshops to showcase continuous learning.\",\n",
    "    \"Tailor the resume to the specific job you are applying for.\",\n",
    "    \"Avoid using jargon and focus on clear and concise language.\",\n",
    "    \"Include keywords from the job description in your resume to improve ATS scanning.\",\n",
    "    \"Ensure consistent formatting and use bullet points for easy reading.\",\n",
    "    \"Include a professional headshot and contact information, such as a phone number.\",\n",
    "    \"Add a section for references or professional recommendations if applicable.\"\n",
    "  ]\n",
    "}\n",
    "\"\"\"\n",
    "\n",
    "# Create an LLMChain\n",
    "chain = LLMChain(llm=llm, prompt=prompt)\n",
    "\n",
    "# Format the JSON using the chain\n",
    "formatted_json = chain.run(output=response[\"text\"])\n",
    "\n",
    "print(formatted_json)"
   ]
  },
  {
   "cell_type": "code",
   "execution_count": 7,
   "id": "41008259-c758-445c-95fa-72118ba2bb60",
   "metadata": {},
   "outputs": [
    {
     "name": "stdout",
     "output_type": "stream",
     "text": [
      "{\n",
      "  \"overall_resume_score\": 9,\n",
      "  \"introduction_score\": 8,\n",
      "  \"skills_score\": 9,\n",
      "  \"projects_score\": 9,\n",
      "  \"suggestions\": [\n",
      "    \"Include a clear and specific job goal in the professional summary.\",\n",
      "    \"Highlight quantifiable achievements in the work experience section.\",\n",
      "    \"Provide more details on the achievements in the projects section, such as user growth or revenue impact.\",\n",
      "    \"Add a section for relevant coursework, certifications, or workshops to showcase continuous learning.\",\n",
      "    \"Tailor the resume to the specific job you are applying for.\",\n",
      "    \"Avoid using jargon and focus on clear and concise language.\",\n",
      "    \"Include keywords from the job description in your resume to improve ATS scanning.\",\n",
      "    \"Ensure consistent formatting and use bullet points for easy reading.\",\n",
      "    \"Include a professional headshot and contact information, such as a phone number.\",\n",
      "    \"Add a section for references or professional recommendations if applicable.\"\n",
      "  ]\n",
      "}\n"
     ]
    }
   ],
   "source": [
    "cleaned_json = formatted_json.replace(\"```json\", \"\").replace(\"```\", \"\").strip()\n",
    "\n",
    "print(cleaned_json)"
   ]
  },
  {
   "cell_type": "code",
   "execution_count": 9,
   "id": "694a48b2-f8a2-4881-83b3-5c2c9eb9ff09",
   "metadata": {},
   "outputs": [
    {
     "name": "stdout",
     "output_type": "stream",
     "text": [
      "Overall Resume Score: 9\n"
     ]
    }
   ],
   "source": [
    "import json\n",
    "cleaned_json = formatted_json.replace(\"```json\", \"\").replace(\"```\", \"\").strip()\n",
    "\n",
    "parsed_data = json.loads(cleaned_json)\n",
    "\n",
    "# Access the overall_resume_score\n",
    "overall_resume_score = parsed_data[\"overall_resume_score\"]\n",
    "\n",
    "print(f\"Overall Resume Score: {overall_resume_score}\")"
   ]
  }
 ],
 "metadata": {
  "kernelspec": {
   "display_name": "venv",
   "language": "python",
   "name": "venv"
  },
  "language_info": {
   "codemirror_mode": {
    "name": "ipython",
    "version": 3
   },
   "file_extension": ".py",
   "mimetype": "text/x-python",
   "name": "python",
   "nbconvert_exporter": "python",
   "pygments_lexer": "ipython3",
   "version": "3.11.4"
  }
 },
 "nbformat": 4,
 "nbformat_minor": 5
}
