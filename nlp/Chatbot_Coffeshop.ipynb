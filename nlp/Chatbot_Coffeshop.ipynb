{
 "cells": [
  {
   "cell_type": "code",
   "execution_count": 111,
   "id": "f45b61c9-f976-42fd-b7ec-b0a9d14494bb",
   "metadata": {},
   "outputs": [],
   "source": [
    "import nltk\n",
    "from nltk.stem import PorterStemmer\n",
    "from nltk.tokenize import word_tokenize\n",
    "from nltk.corpus import stopwords\n",
    "import numpy as np\n",
    "import json"
   ]
  },
  {
   "cell_type": "code",
   "execution_count": 50,
   "id": "64fb7ae8-6c37-4c77-854b-e09b6b9b6910",
   "metadata": {},
   "outputs": [
    {
     "name": "stderr",
     "output_type": "stream",
     "text": [
      "[nltk_data] Error loading punkt_tab: <urlopen error [Errno 11001]\n",
      "[nltk_data]     getaddrinfo failed>\n",
      "[nltk_data] Error loading stopwords: <urlopen error [Errno 11001]\n",
      "[nltk_data]     getaddrinfo failed>\n"
     ]
    },
    {
     "data": {
      "text/plain": [
       "False"
      ]
     },
     "execution_count": 50,
     "metadata": {},
     "output_type": "execute_result"
    }
   ],
   "source": [
    "nltk.download('punkt_tab')\n",
    "nltk.download('stopwords')"
   ]
  },
  {
   "cell_type": "code",
   "execution_count": 64,
   "id": "f6da4e13-d51b-45bd-bdd8-2e9e8680168c",
   "metadata": {},
   "outputs": [],
   "source": [
    "stemmer=PorterStemmer()"
   ]
  },
  {
   "cell_type": "code",
   "execution_count": 139,
   "id": "e9b71360-061c-478e-8f6d-e82df3c62c7b",
   "metadata": {},
   "outputs": [],
   "source": [
    "with open(\"./data/coffeshop_chat.json\", 'r') as f:\n",
    "    intents=json.load(f)"
   ]
  },
  {
   "cell_type": "code",
   "execution_count": 140,
   "id": "2258f158-c89c-4b28-b8cc-b5728871c3d2",
   "metadata": {},
   "outputs": [],
   "source": [
    "words=[]\n",
    "tags=[]\n",
    "tokens_tag=[]"
   ]
  },
  {
   "cell_type": "markdown",
   "id": "45922243-8ece-4400-a518-539a353120a2",
   "metadata": {},
   "source": [
    "# append()"
   ]
  },
  {
   "cell_type": "markdown",
   "id": "fcd0999a-901b-4605-91cb-f1557fa68cda",
   "metadata": {},
   "source": [
    "# extend()"
   ]
  },
  {
   "cell_type": "code",
   "execution_count": 141,
   "id": "d35829e2-4089-4ea7-a70f-96685ca73532",
   "metadata": {},
   "outputs": [],
   "source": [
    "for intent in intents['intents']:\n",
    "    tag=intent['tag']\n",
    "    tags.append(tag)\n",
    "    for pattern in intent['patterns']:\n",
    "        word=word_tokenize(pattern)\n",
    "        words.extend(word)\n",
    "\n",
    "        tokens_tag.append((word, tag))"
   ]
  },
  {
   "cell_type": "code",
   "execution_count": 146,
   "id": "84f79542-2efe-41a6-894a-298393bf6c0e",
   "metadata": {},
   "outputs": [],
   "source": [
    "ignore_words=['?','!','.',',','\\'s']\n",
    "words=[stemmer.stem(word) for word in words if word not in ignore_words]"
   ]
  },
  {
   "cell_type": "markdown",
   "id": "39dcda82-d554-4439-9335-37c87737977e",
   "metadata": {},
   "source": [
    "# sorted()"
   ]
  },
  {
   "cell_type": "markdown",
   "id": "7c6c700a-f542-4353-b985-019b6fc8c3c4",
   "metadata": {},
   "source": [
    "# set()"
   ]
  },
  {
   "cell_type": "code",
   "execution_count": 147,
   "id": "4e27cac9-4b08-4305-ac22-14f695d7fd9e",
   "metadata": {},
   "outputs": [],
   "source": [
    "words=sorted(set(words))\n",
    "tags=sorted(set(tags))"
   ]
  },
  {
   "cell_type": "code",
   "execution_count": null,
   "id": "be3f395a-63cd-49dd-bd7f-19576f424188",
   "metadata": {},
   "outputs": [],
   "source": []
  },
  {
   "cell_type": "code",
   "execution_count": 163,
   "id": "03cab9f9-95ab-4448-a6e3-7d58470a672a",
   "metadata": {},
   "outputs": [],
   "source": [
    "def bag_of_words(tokens, words):\n",
    "    stemmed_token=[stemmer.stem(token) for token in tokens]\n",
    "\n",
    "    bag=np.zeros(len(words), dtype=np.float32)\n",
    "\n",
    "    for idx, word in enumerate(words):\n",
    "        if word in stemmed_token:\n",
    "            bag[idx]=1.0\n",
    "        \n",
    "    return bag"
   ]
  },
  {
   "cell_type": "markdown",
   "id": "6abd4015-cfb8-43e1-9739-4574a9307f5d",
   "metadata": {},
   "source": [
    "# BoW"
   ]
  },
  {
   "cell_type": "code",
   "execution_count": 168,
   "id": "1918e3f4-b241-4457-854a-8f01c3668ffa",
   "metadata": {},
   "outputs": [],
   "source": [
    "X_train=[]\n",
    "y_train=[]\n",
    "for (tokens, tag) in tokens_tag:\n",
    "    bow=bag_of_words(tokens, words)\n",
    "    X_train.append(bow)\n",
    "\n",
    "    y_train.append(tags.index(tag))\n",
    "\n",
    "X_train=np.array(X_train)\n",
    "y_train=np.array(y_train)"
   ]
  },
  {
   "cell_type": "markdown",
   "id": "d8a09389-ecf3-4e70-827d-0f4537b0008f",
   "metadata": {},
   "source": [
    "# Training Dataset"
   ]
  },
  {
   "cell_type": "markdown",
   "id": "6fa9c664-7e44-484d-ac4d-35f5b49849c2",
   "metadata": {},
   "source": [
    "# Model Building"
   ]
  },
  {
   "cell_type": "code",
   "execution_count": null,
   "id": "1f95cb2f-3c6e-49f7-91aa-3d4db405ff48",
   "metadata": {},
   "outputs": [],
   "source": []
  }
 ],
 "metadata": {
  "kernelspec": {
   "display_name": "venv",
   "language": "python",
   "name": "venv"
  },
  "language_info": {
   "codemirror_mode": {
    "name": "ipython",
    "version": 3
   },
   "file_extension": ".py",
   "mimetype": "text/x-python",
   "name": "python",
   "nbconvert_exporter": "python",
   "pygments_lexer": "ipython3",
   "version": "3.11.4"
  }
 },
 "nbformat": 4,
 "nbformat_minor": 5
}
