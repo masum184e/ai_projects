{
 "cells": [
  {
   "cell_type": "code",
   "execution_count": null,
   "id": "00f014b2-56d9-45f8-8557-62a0d18627c3",
   "metadata": {},
   "outputs": [],
   "source": [
    "import numpy as np\n",
    "import pandas as pd"
   ]
  },
  {
   "cell_type": "code",
   "execution_count": null,
   "id": "92324075-c23d-4754-aa9d-af407887b105",
   "metadata": {},
   "outputs": [],
   "source": [
    "data = pd.read_csv('./data/spam.csv', encoding='latin-1')\n",
    "df = pd.DataFrame(data)\n",
    "df.head()"
   ]
  },
  {
   "cell_type": "code",
   "execution_count": null,
   "id": "2ba1b788-ff18-46b7-a723-e9dbe3690908",
   "metadata": {},
   "outputs": [],
   "source": [
    "df = data[['v1', 'v2']]\n",
    "df.columns = ['label', 'email']"
   ]
  },
  {
   "cell_type": "code",
   "execution_count": null,
   "id": "de8fd435-e27d-4481-adfd-8ef151c84dc5",
   "metadata": {},
   "outputs": [],
   "source": [
    "from sklearn.feature_extraction.text import CountVectorizer\n",
    "vectorizer = CountVectorizer()\n",
    "X = vectorizer.fit_transform(df['email'])\n",
    "y = df['label'].apply(lambda x: 1 if x == 'spam' else 0)"
   ]
  },
  {
   "cell_type": "markdown",
   "id": "a77d691f-5201-43b9-b48e-29bc7cb5f220",
   "metadata": {},
   "source": [
    "__X is look like this:__\n",
    "```\n",
    "[[0 0 0 1 0 1 1 1 0 0 1 0 0 0 0]\n",
    " [0 1 0 0 1 1 0 0 1 0 0 1 1 0 0]\n",
    " [1 0 1 0 1 0 0 0 1 1 0 0 0 1 1]]\n",
    "```\n",
    "__y is look like:__\n",
    "```\n",
    "0       0\n",
    "1       0\n",
    "2       1\n",
    "```\n",
    "`[0 0 0 1 0 1 1 1 0 0 1 0 0 0 0]` pattern represent `0` means `not span` and \n"
   ]
  },
  {
   "cell_type": "code",
   "execution_count": null,
   "id": "a9e4579d-e405-49d8-8240-4435f84dbfff",
   "metadata": {},
   "outputs": [],
   "source": [
    "from sklearn.model_selection import train_test_split\n",
    "from sklearn.metrics import accuracy_score,confusion_matrix,classification_report\n",
    "from sklearn.naive_bayes import MultinomialNB\n",
    "\n",
    "X_train, X_test, y_train, y_test = train_test_split(X, y, test_size=0.3, random_state=42)\n",
    "\n",
    "classifier = MultinomialNB()\n",
    "classifier.fit(X_train, y_train)\n",
    "\n",
    "y_pred = classifier.predict(X_test)\n",
    "\n",
    "print(\"Accuracy:\", accuracy_score(y_test, y_pred))\n",
    "print(\"Classification Report:\\n\", classification_report(y_test, y_pred))\n",
    "print(\"Confusion Matrix:\\n\", confusion_matrix(y_test, y_pred))"
   ]
  },
  {
   "cell_type": "markdown",
   "id": "d01318c3-6a67-4342-854d-0dc90dd3932f",
   "metadata": {},
   "source": [
    "# User Input"
   ]
  },
  {
   "cell_type": "code",
   "execution_count": null,
   "id": "39c09853-6ca8-41a1-bd3b-ae32db23f2e3",
   "metadata": {},
   "outputs": [],
   "source": [
    " user_input = input()"
   ]
  },
  {
   "cell_type": "code",
   "execution_count": null,
   "id": "fe33d704-ce47-4071-89d0-e88289e876c9",
   "metadata": {},
   "outputs": [],
   "source": [
    "input_features = vectorizer.transform([user_input])\n",
    "prediction = classifier.predict(input_features)"
   ]
  },
  {
   "cell_type": "code",
   "execution_count": null,
   "id": "be2cb790-9f68-4c8e-9ca1-8c0a7b513a4a",
   "metadata": {},
   "outputs": [],
   "source": [
    "print(\"Spam\" if prediction == 1 else \"Not Spam\")"
   ]
  }
 ],
 "metadata": {
  "kernelspec": {
   "display_name": "venv",
   "language": "python",
   "name": "venv"
  },
  "language_info": {
   "codemirror_mode": {
    "name": "ipython",
    "version": 3
   },
   "file_extension": ".py",
   "mimetype": "text/x-python",
   "name": "python",
   "nbconvert_exporter": "python",
   "pygments_lexer": "ipython3",
   "version": "3.11.4"
  }
 },
 "nbformat": 4,
 "nbformat_minor": 5
}
