{
 "cells": [
  {
   "cell_type": "markdown",
   "id": "43651bc9-fe2d-4c1a-b07f-5f727316dde5",
   "metadata": {},
   "source": [
    "# Sentiment Analysis - Amazon"
   ]
  },
  {
   "cell_type": "code",
   "execution_count": null,
   "id": "700c3565-00dd-43a4-907c-f4c6168393d7",
   "metadata": {},
   "outputs": [],
   "source": [
    "import numpy as np\n",
    "import pandas as pd"
   ]
  },
  {
   "cell_type": "code",
   "execution_count": null,
   "id": "d08cbcdf-99cc-4d0f-b308-e3695e027a03",
   "metadata": {},
   "outputs": [],
   "source": [
    "data = pd.read_csv('./data/amazon_alexa.tsv',  delimiter='\\t')\n",
    "df = pd.DataFrame(data)\n",
    "df.head()"
   ]
  },
  {
   "cell_type": "code",
   "execution_count": null,
   "id": "43154601-76bb-434e-b2d0-7a530b3b5879",
   "metadata": {},
   "outputs": [],
   "source": [
    "df.drop(columns=['date', 'variation', 'rating'], inplace=True)"
   ]
  },
  {
   "cell_type": "code",
   "execution_count": null,
   "id": "6c8d92fc-0636-46ba-899c-b5f6f9feebb1",
   "metadata": {},
   "outputs": [],
   "source": [
    "df.head()"
   ]
  },
  {
   "cell_type": "code",
   "execution_count": null,
   "id": "e621443a-a2e0-4ec1-8841-34f231cb8774",
   "metadata": {},
   "outputs": [],
   "source": [
    "df.info()"
   ]
  },
  {
   "cell_type": "code",
   "execution_count": null,
   "id": "166aa167-09f7-470a-b57c-53faa4bd558c",
   "metadata": {},
   "outputs": [],
   "source": [
    "df['feedback'].value_counts()"
   ]
  },
  {
   "cell_type": "code",
   "execution_count": null,
   "id": "8159c9b5-843d-4b74-83e2-0a357addd744",
   "metadata": {},
   "outputs": [],
   "source": [
    "from sklearn.feature_extraction.text import CountVectorizer\n",
    "vectorizer = CountVectorizer()\n",
    "df['verified_reviews'] = df['verified_reviews'].fillna('')\n",
    "X = vectorizer.fit_transform(df['verified_reviews'])\n",
    "y = df['feedback']"
   ]
  },
  {
   "cell_type": "code",
   "execution_count": null,
   "id": "27d52f1a-f0e7-493c-a963-668a96492dfd",
   "metadata": {},
   "outputs": [],
   "source": [
    "from sklearn.model_selection import train_test_split\n",
    "from sklearn.metrics import accuracy_score,confusion_matrix,classification_report\n",
    "from sklearn.naive_bayes import MultinomialNB\n",
    "\n",
    "X_train, X_test, y_train, y_test = train_test_split(X, y, test_size=0.3, random_state=42)\n",
    "\n",
    "classifier = MultinomialNB()\n",
    "classifier.fit(X_train, y_train)\n",
    "\n",
    "y_pred = classifier.predict(X_test)\n",
    "\n",
    "print(\"Accuracy:\", accuracy_score(y_test, y_pred))\n",
    "print(\"Classification Report:\\n\", classification_report(y_test, y_pred))\n",
    "print(\"Confusion Matrix:\\n\", confusion_matrix(y_test, y_pred))"
   ]
  }
 ],
 "metadata": {
  "kernelspec": {
   "display_name": "venv",
   "language": "python",
   "name": "venv"
  },
  "language_info": {
   "codemirror_mode": {
    "name": "ipython",
    "version": 3
   },
   "file_extension": ".py",
   "mimetype": "text/x-python",
   "name": "python",
   "nbconvert_exporter": "python",
   "pygments_lexer": "ipython3",
   "version": "3.11.4"
  }
 },
 "nbformat": 4,
 "nbformat_minor": 5
}
